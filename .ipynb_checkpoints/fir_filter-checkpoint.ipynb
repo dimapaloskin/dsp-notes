{
 "cells": [
  {
   "cell_type": "code",
   "execution_count": 1,
   "id": "danish-student",
   "metadata": {},
   "outputs": [],
   "source": [
    "import numpy as np\n",
    "import json\n",
    "import matplotlib.pyplot as plt\n",
    "import math\n",
    "\n",
    "%matplotlib inline"
   ]
  },
  {
   "cell_type": "code",
   "execution_count": 4,
   "id": "undefined-medium",
   "metadata": {},
   "outputs": [],
   "source": [
    "def create_sinc_kernel(k):\n",
    "    taps = []\n",
    "    start = 0.5 - (k / 2.0)\n",
    "    for i in range(k):\n",
    "        cur = start + i\n",
    "        taps.append(math.sin(2 * math.pi * cur / k) / (2 * math.pi * cur * k))\n",
    "        \n",
    "    taps = np.array(taps)\n",
    "    gain = taps.sum()\n",
    "\n",
    "    taps = taps / gain\n",
    "    \n",
    "    return taps"
   ]
  },
  {
   "cell_type": "code",
   "execution_count": null,
   "id": "differential-billion",
   "metadata": {},
   "outputs": [],
   "source": [
    "x = np.arange(0, 512)\n",
    "y = np.array(create_sinc_kernel(512))\n",
    "\n",
    "plt.plot(x, y)\n",
    "plt.show()"
   ]
  }
 ],
 "metadata": {
  "kernelspec": {
   "display_name": "Python 3",
   "language": "python",
   "name": "python3"
  },
  "language_info": {
   "codemirror_mode": {
    "name": "ipython",
    "version": 3
   },
   "file_extension": ".py",
   "mimetype": "text/x-python",
   "name": "python",
   "nbconvert_exporter": "python",
   "pygments_lexer": "ipython3",
   "version": "3.9.4"
  }
 },
 "nbformat": 4,
 "nbformat_minor": 5
}
